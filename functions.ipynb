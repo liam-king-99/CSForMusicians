{
 "cells": [
  {
   "cell_type": "markdown",
   "metadata": {},
   "source": [
    "# Functions\n",
    "\n",
    "\n",
    "A function is a block of code that executes some action. A function can take in input (called parameters), but it is not a requirement. Similarly, a function can generate output, but it is not a requirement.\n",
    "\n",
    "## Built-Ins\n",
    "\n",
    "#### Print\n",
    "Python provides some functions to users, sometimes called *built-in* functions. One very common built-in function is the *print* function. We've already seen this one in the previous chapters. The print function can take in up to 4 parameters, but we will just focus on the case where there is only 1. The function simply prints out whatever was provided to it. We will use this frequently to check values in variables."
   ]
  },
  {
   "cell_type": "code",
   "execution_count": 36,
   "metadata": {},
   "outputs": [
    {
     "name": "stdout",
     "output_type": "stream",
     "text": [
      "5\n",
      "(1, 2, 3, 4)\n",
      "Liam\n"
     ]
    }
   ],
   "source": [
    "print(5)\n",
    "print((1, 2, 3, 4))\n",
    "myName = \"Liam\"\n",
    "print(myName)"
   ]
  },
  {
   "cell_type": "markdown",
   "metadata": {},
   "source": [
    "#### Range\n",
    "\n",
    "* Notice we will use the list constructor list() here. We won't cover what a constructor is just yet. All you need to know is that the list constructor returns a list object. It will help us see the values\n",
    "\n",
    "Another very useful built-in function is the range function. The range function can take in 1 to 3 parameters. They are called *start*, *stop*, and *step*. We will look at each case individually.\n",
    "\n",
    "If only one parameter is provided, *range* will treat it as the *stop* parameter. The function will return a sequence of numbers starting from 0 and stopping just before *stop*.\n",
    "\n",
    "If 2 parameters are provided, *range* will treat the first parameter as *start* and the second as *stop*. The function will return a sequence starting from *start* and stopping just before *stop*. The *stop* parameter must be higher than the *start* parameter for a sequence to be returned.\n",
    "\n",
    "If 2 parameters are provided, *range* will treat the first parameter as *start*, the second as *stop*, and the third as *step*. The function will return a sequence starting from *start*, stopping just before *stop* and moving in increments of *step*. The sequence can be decreasing as long as *step* is negative."
   ]
  },
  {
   "cell_type": "code",
   "execution_count": 37,
   "metadata": {},
   "outputs": [
    {
     "name": "stdout",
     "output_type": "stream",
     "text": [
      "a = [0, 1, 2, 3, 4]\n",
      "b = [3, 4, 5, 6, 7, 8, 9]\n",
      "c = [3, 5, 7, 9]\n",
      "d = [10, 8, 6, 4]\n"
     ]
    }
   ],
   "source": [
    "# 1 parameter case\n",
    "a = list(range(5))\n",
    "print(f\"a = {a}\")\n",
    "\n",
    "# 2 parameter case\n",
    "b = list(range(3, 10))\n",
    "print(f\"b = {b}\")\n",
    "\n",
    "# 3 parameter case: Part I\n",
    "c = list(range(3, 10, 2))\n",
    "print(f\"c = {c}\")\n",
    "\n",
    "# 3 parameter case: Part 2\n",
    "d = list(range(10, 3, -2))\n",
    "print(f\"d = {d}\")"
   ]
  },
  {
   "cell_type": "markdown",
   "metadata": {},
   "source": [
    "## Original Functions\n",
    "\n",
    "We can also write our own functions. Functions are defined with the *def* keyword, followed by the name of the function."
   ]
  },
  {
   "cell_type": "code",
   "execution_count": 38,
   "metadata": {},
   "outputs": [],
   "source": [
    "def alwaysPrint5():\n",
    "    print(5)"
   ]
  },
  {
   "cell_type": "markdown",
   "metadata": {},
   "source": [
    "If we want to see the function in action, we simply have to *call* or *invoke* it by writing its name followed by a pair of parentheses."
   ]
  },
  {
   "cell_type": "code",
   "execution_count": 39,
   "metadata": {},
   "outputs": [
    {
     "name": "stdout",
     "output_type": "stream",
     "text": [
      "5\n"
     ]
    }
   ],
   "source": [
    "alwaysPrint5()"
   ]
  },
  {
   "cell_type": "markdown",
   "metadata": {},
   "source": [
    "To define a function that takes in parameters, we can simply add them into the function definition."
   ]
  },
  {
   "cell_type": "code",
   "execution_count": 40,
   "metadata": {},
   "outputs": [],
   "source": [
    "def alwaysPrintUserValue(n):\n",
    "    print(n)"
   ]
  },
  {
   "cell_type": "markdown",
   "metadata": {},
   "source": [
    "Whatever value we substitute for n when we call the function will get printed."
   ]
  },
  {
   "cell_type": "code",
   "execution_count": 41,
   "metadata": {},
   "outputs": [
    {
     "name": "stdout",
     "output_type": "stream",
     "text": [
      "5\n",
      "Hello\n",
      "(1, 2, 3, 4)\n"
     ]
    }
   ],
   "source": [
    "alwaysPrintUserValue(5)\n",
    "alwaysPrintUserValue(\"Hello\")\n",
    "alwaysPrintUserValue((1,2,3,4))"
   ]
  },
  {
   "cell_type": "markdown",
   "metadata": {},
   "source": [
    "#### Return Values\n",
    "\n",
    "Instead of printing out values, functions can also return values. A function's return value is what it outputs. Return values are nice because they allow us to store function output in variables.\n",
    "\n",
    "The *double* function just returns the input multiplied by 2. In Python, this can have some interesting consequences. The function will work as expected for numbers, but other input types will pass through the function without any errors."
   ]
  },
  {
   "cell_type": "code",
   "execution_count": 42,
   "metadata": {},
   "outputs": [
    {
     "name": "stdout",
     "output_type": "stream",
     "text": [
      "8\n",
      "HelloHello\n",
      "(1, 2, 3, 4, 1, 2, 3, 4)\n"
     ]
    }
   ],
   "source": [
    "def double(x):\n",
    "    return 2 * x\n",
    "\n",
    "a = double(4)\n",
    "print(a)\n",
    "b = double(\"Hello\")\n",
    "print(b)\n",
    "c = double((1, 2, 3, 4))\n",
    "print(c)"
   ]
  },
  {
   "cell_type": "markdown",
   "metadata": {},
   "source": [
    "We can use one function inside another function. The *alwaysPrintTwiceUserValue* function - as its name suggests - will always print the user's input multiplied by 2. Seeing as we have already done the work to multiply a number by 2 in the *double* function, we will just call it from our new function."
   ]
  },
  {
   "cell_type": "code",
   "execution_count": 43,
   "metadata": {},
   "outputs": [
    {
     "name": "stdout",
     "output_type": "stream",
     "text": [
      "20\n"
     ]
    }
   ],
   "source": [
    "def alwaysPrintTwiceUserValue(n):\n",
    "    doubleUserValue = double(n)\n",
    "    print(doubleUserValue)\n",
    "    \n",
    "alwaysPrintTwiceUserValue(10)"
   ]
  },
  {
   "cell_type": "markdown",
   "metadata": {},
   "source": [
    "### Practice Time\n",
    "\n",
    "Write a function *sum* that takes in 2 numbers and returns their sum. Some example input/output pairs are provided.\n",
    "\n",
    "sum(5, 2) = 7<br>\n",
    "sum(1, 1) = 2<br>\n",
    "sum(-3, 3) = 0\n",
    "\n",
    "Write a function *diff* that takes in 2 numbers and returns the difference between them. Some example input/output pairs are provided.\n",
    "\n",
    "diff(5, 2) = 3<br>\n",
    "diff(1, 1) = 0<br>\n",
    "diff(-3, 3) = -6\n",
    "\n",
    "Write a function *mult* that takes in 2 numbers and returns their product. Some example input/output pairs are provided.\n",
    "\n",
    "mult(5, 2) = 10<br>\n",
    "mult(1, 1) = 1<br>\n",
    "mult(-3, 3) = -9"
   ]
  },
  {
   "cell_type": "code",
   "execution_count": 5,
   "metadata": {},
   "outputs": [],
   "source": [
    "#Your sum code goes here. The function definition is started for you. Watch the indentation!#\n",
    "# def sum(a, b):"
   ]
  },
  {
   "cell_type": "code",
   "execution_count": 45,
   "metadata": {},
   "outputs": [],
   "source": [
    "#Your diff code goes here#"
   ]
  },
  {
   "cell_type": "code",
   "execution_count": 1,
   "metadata": {},
   "outputs": [],
   "source": [
    "#Your mult code goes here#"
   ]
  },
  {
   "cell_type": "markdown",
   "metadata": {},
   "source": [
    "#### Using If Statements"
   ]
  },
  {
   "cell_type": "markdown",
   "metadata": {},
   "source": [
    "If statements will be very helpful in the functions we will write. There are a lot of cases where you will want to run certain sections of code only if some conditions are met.\n",
    "\n",
    "A very simple function that relies on an if statement is the *isEven* function. It will take in a number as its parameter and return *True* if the number is even, or *False* if it is odd."
   ]
  },
  {
   "cell_type": "code",
   "execution_count": 1,
   "metadata": {},
   "outputs": [
    {
     "name": "stdout",
     "output_type": "stream",
     "text": [
      "False\n",
      "True\n",
      "False\n"
     ]
    }
   ],
   "source": [
    "def isEven(n):\n",
    "    if (n % 2 == 0):\n",
    "        return True\n",
    "    else:\n",
    "        return False\n",
    "    \n",
    "print(isEven(1))\n",
    "print(isEven(2))\n",
    "print(isEven(9))"
   ]
  },
  {
   "cell_type": "markdown",
   "metadata": {},
   "source": [
    "The logic behind the function is fairly straightforward. If the number has a remainder of 0 when divided by 2, we know it is even. If it has any other remainder (the only other possibility is a remainder of 1), we know it is false.\n",
    "\n",
    "We can write the function in a more concise manner like so:"
   ]
  },
  {
   "cell_type": "code",
   "execution_count": 8,
   "metadata": {},
   "outputs": [
    {
     "name": "stdout",
     "output_type": "stream",
     "text": [
      "False\n",
      "True\n",
      "False\n"
     ]
    }
   ],
   "source": [
    "def isEven(n):\n",
    "    return (n % 2 == 0)\n",
    "\n",
    "print(isEven(1))\n",
    "print(isEven(2))\n",
    "print(isEven(9))"
   ]
  },
  {
   "cell_type": "markdown",
   "metadata": {},
   "source": [
    "This works the same exact way. We are still returning *True* or *False*. We are just using 1 line instead of 4.\n",
    "\n",
    "Another good use of the if statement is type checking. Type checking is important for making sure that the type of input provided to a function is the type we are expecting. For example, our *isEven* works perfectly for integers. However, it does not account for non-integer input."
   ]
  },
  {
   "cell_type": "code",
   "execution_count": 12,
   "metadata": {},
   "outputs": [
    {
     "name": "stdout",
     "output_type": "stream",
     "text": [
      "False\n"
     ]
    },
    {
     "ename": "TypeError",
     "evalue": "not all arguments converted during string formatting",
     "output_type": "error",
     "traceback": [
      "\u001b[1;31m---------------------------------------------------------------------------\u001b[0m",
      "\u001b[1;31mTypeError\u001b[0m                                 Traceback (most recent call last)",
      "\u001b[1;32m<ipython-input-12-9a459f17b4ab>\u001b[0m in \u001b[0;36m<module>\u001b[1;34m\u001b[0m\n\u001b[0;32m      1\u001b[0m \u001b[0mprint\u001b[0m\u001b[1;33m(\u001b[0m\u001b[0misEven\u001b[0m\u001b[1;33m(\u001b[0m\u001b[1;36m2.3\u001b[0m\u001b[1;33m)\u001b[0m\u001b[1;33m)\u001b[0m\u001b[1;33m\u001b[0m\u001b[1;33m\u001b[0m\u001b[0m\n\u001b[1;32m----> 2\u001b[1;33m \u001b[0mprint\u001b[0m\u001b[1;33m(\u001b[0m\u001b[0misEven\u001b[0m\u001b[1;33m(\u001b[0m\u001b[1;34m\"Hello\"\u001b[0m\u001b[1;33m)\u001b[0m\u001b[1;33m)\u001b[0m\u001b[1;33m\u001b[0m\u001b[1;33m\u001b[0m\u001b[0m\n\u001b[0m",
      "\u001b[1;32m<ipython-input-8-5a556f26aef6>\u001b[0m in \u001b[0;36misEven\u001b[1;34m(n)\u001b[0m\n\u001b[0;32m      1\u001b[0m \u001b[1;32mdef\u001b[0m \u001b[0misEven\u001b[0m\u001b[1;33m(\u001b[0m\u001b[0mn\u001b[0m\u001b[1;33m)\u001b[0m\u001b[1;33m:\u001b[0m\u001b[1;33m\u001b[0m\u001b[1;33m\u001b[0m\u001b[0m\n\u001b[1;32m----> 2\u001b[1;33m     \u001b[1;32mreturn\u001b[0m \u001b[1;33m(\u001b[0m\u001b[0mn\u001b[0m \u001b[1;33m%\u001b[0m \u001b[1;36m2\u001b[0m \u001b[1;33m==\u001b[0m \u001b[1;36m0\u001b[0m\u001b[1;33m)\u001b[0m\u001b[1;33m\u001b[0m\u001b[1;33m\u001b[0m\u001b[0m\n\u001b[0m\u001b[0;32m      3\u001b[0m \u001b[1;33m\u001b[0m\u001b[0m\n\u001b[0;32m      4\u001b[0m \u001b[0mprint\u001b[0m\u001b[1;33m(\u001b[0m\u001b[0misEven\u001b[0m\u001b[1;33m(\u001b[0m\u001b[1;36m1\u001b[0m\u001b[1;33m)\u001b[0m\u001b[1;33m)\u001b[0m\u001b[1;33m\u001b[0m\u001b[1;33m\u001b[0m\u001b[0m\n\u001b[0;32m      5\u001b[0m \u001b[0mprint\u001b[0m\u001b[1;33m(\u001b[0m\u001b[0misEven\u001b[0m\u001b[1;33m(\u001b[0m\u001b[1;36m2\u001b[0m\u001b[1;33m)\u001b[0m\u001b[1;33m)\u001b[0m\u001b[1;33m\u001b[0m\u001b[1;33m\u001b[0m\u001b[0m\n",
      "\u001b[1;31mTypeError\u001b[0m: not all arguments converted during string formatting"
     ]
    }
   ],
   "source": [
    "print(isEven(2.3))\n",
    "print(isEven(\"Hello\"))"
   ]
  },
  {
   "cell_type": "markdown",
   "metadata": {},
   "source": [
    "To check the type of a variable, we will use the *isinstance* function that Python provides. The *isinstance* function will return *True* if the variable matches the type we feed into the function, or *False* if it does not match. Below are some examples."
   ]
  },
  {
   "cell_type": "code",
   "execution_count": 30,
   "metadata": {},
   "outputs": [
    {
     "name": "stdout",
     "output_type": "stream",
     "text": [
      "True\n",
      "True\n",
      "True\n",
      "\n",
      "False\n",
      "False\n",
      "\n",
      "True\n"
     ]
    }
   ],
   "source": [
    "# True cases\n",
    "print(isinstance(2, int))\n",
    "print(isinstance(\"Hello\", str))\n",
    "print(isinstance(False, bool))\n",
    "print()\n",
    "# False cases\n",
    "print(isinstance(2, str))\n",
    "print(isinstance(\"Hello\", bool))\n",
    "print()\n",
    "# Historical case\n",
    "print(isinstance(False, int))"
   ]
  },
  {
   "cell_type": "markdown",
   "metadata": {},
   "source": [
    "The last example is an intentional outcome. Python didn't always have the *bool* data type. *False* values used to simply be 0, and *True* values used to be 1. This isn't something that will come up a lot, but it is good to be aware of it."
   ]
  },
  {
   "cell_type": "markdown",
   "metadata": {},
   "source": [
    "Let's put type checking into practice with the *isEven* function"
   ]
  },
  {
   "cell_type": "code",
   "execution_count": 20,
   "metadata": {},
   "outputs": [
    {
     "name": "stdout",
     "output_type": "stream",
     "text": [
      "True\n",
      "Wrong input type!\n",
      "Wrong input type!\n"
     ]
    }
   ],
   "source": [
    "def isEven(n):\n",
    "    if (isinstance(n, int)):\n",
    "        return (n % 2 == 0)\n",
    "    else:\n",
    "        return \"Wrong input type!\"\n",
    "    \n",
    "print(isEven(2))\n",
    "print(isEven(\"Hello\"))\n",
    "print(isEven(4.0))"
   ]
  },
  {
   "cell_type": "markdown",
   "metadata": {},
   "source": [
    "We still have an issue. Our function is demanding *int* values, so *float* values will not pass our type check. This is good for every *float* that is not equal to an integer (2.3, -9.8, 4.5, etc.), but it fails when a *float* is equal to an integer (4.0, 1.0, -6.0, etc.). To check this, we just have to make one small change."
   ]
  },
  {
   "cell_type": "code",
   "execution_count": 25,
   "metadata": {},
   "outputs": [
    {
     "name": "stdout",
     "output_type": "stream",
     "text": [
      "True\n",
      "Wrong input type!\n",
      "True\n",
      "False\n",
      "True\n"
     ]
    }
   ],
   "source": [
    "def isEven(n):\n",
    "    if (isinstance(n, int) or isinstance(n, float)):\n",
    "        return (n % 2 == 0)\n",
    "    else:\n",
    "        return \"Wrong input type!\"\n",
    "    \n",
    "print(isEven(2))\n",
    "print(isEven(\"Hello\"))\n",
    "print(isEven(4.0))\n",
    "print(isEven(4.1))\n",
    "print(isEven(False))"
   ]
  },
  {
   "cell_type": "markdown",
   "metadata": {},
   "source": [
    "Given what we learned before when we were going over *isinstance*, *bool* values will pass the *int* check. For a challenge, see if you can alter the *isEven* function to not allow *bool* values."
   ]
  },
  {
   "cell_type": "code",
   "execution_count": 28,
   "metadata": {},
   "outputs": [],
   "source": [
    "def isEvenNoBools(n):\n",
    "    #Good luck!#\n",
    "    return \"This is a placeholder\""
   ]
  },
  {
   "cell_type": "markdown",
   "metadata": {},
   "source": [
    "Another common example of the if statement is assigning a letter grade based on an average. In this example, we will use the following grade breakdown:\n",
    "\n",
    "A: >= 90<br>\n",
    "B: [80, 90)<br>\n",
    "C: [70, 80)<br>\n",
    "D: [60, 70)<br>\n",
    "F: < 60\n",
    "\n",
    "Let's show how this would work in a function called *assignGrade*. It will take in an average, and return the letter grade as a string."
   ]
  },
  {
   "cell_type": "code",
   "execution_count": 32,
   "metadata": {},
   "outputs": [],
   "source": [
    "def assignGrade(n):\n",
    "    if (isinstance(n, float)):\n",
    "        if (n >= 90):\n",
    "            return \"A\"\n",
    "        elif (n >= 80):\n",
    "            return \"B\"\n",
    "        elif (n >= 70):\n",
    "            return \"C\"\n",
    "        elif (n >= 60):\n",
    "            return \"D\"\n",
    "        else:\n",
    "            return \"F\"\n",
    "    else:\n",
    "        return \"Input must be a float\""
   ]
  },
  {
   "cell_type": "markdown",
   "metadata": {},
   "source": [
    "First, we want to make sure that the input is a float. Once we know that, we check to see if the average is at least 90. We assign an 'A' if it is. If the average is less than 90, we check to see if it is at least 80. We assign a 'B' if it is. If it is less than 80, we check to see if it is at least 70. We assign a 'C' if it is. If it is less than 70, we check to see if it is at least 60. We assign a 'D' if it is. If it reaches the *else*, we assign an 'F' since the average is less than 60. Lastly, if the input is not a float, we return a string to inform the user that the input is not the correct type."
   ]
  },
  {
   "cell_type": "markdown",
   "metadata": {},
   "source": [
    "### Practice Time\n",
    "\n",
    "Write a function *div* that takes in 2 numbers and returns their quotient. Treat the first parameter as the numerator and the second as the denominator. If the denominator is 0, return a string informing the user that they are trying to divide by 0 (we do not tolerate such actions). Some example input/output pairs are provided.\n",
    "\n",
    "* You may skip type checking here if you want\n",
    "\n",
    "sum(5, 2) = 2.5<br>\n",
    "sum(1, 1) = 1.0<br>\n",
    "sum(-3, 3) = -1.0<br>\n",
    "sum(1, 0) = \"Denominator cannot be 0\""
   ]
  },
  {
   "cell_type": "code",
   "execution_count": 17,
   "metadata": {},
   "outputs": [],
   "source": [
    "#Your div code goes here#"
   ]
  },
  {
   "cell_type": "markdown",
   "metadata": {},
   "source": [
    "### Using Loops"
   ]
  },
  {
   "cell_type": "markdown",
   "metadata": {},
   "source": [
    "#### For Loops\n",
    "\n",
    "Loops are a critical asset in programming. They allow us to run the same code as many times as we want. There are 2 types of loops: *for* loops and *while* loops. Let's start with *for* loops.\n",
    "\n",
    "In Python, *for* loops are structured like so:\n",
    "\n",
    "for *variable* in *iterable*:<br>\n",
    "&emsp;*loop code goes here*\n",
    "\n",
    "A common example for using a *for* loop is printing out each character of a string. Let's write a function *printString* that takes in a string and prints out each character.\n",
    "\n",
    "A common example for using a *for* loop is adding up all of the numbers in a list. Let's write a function *sumList* that takes in a list of numbers and returns the sum of all of the elements."
   ]
  },
  {
   "cell_type": "code",
   "execution_count": 2,
   "metadata": {},
   "outputs": [
    {
     "name": "stdout",
     "output_type": "stream",
     "text": [
      "H\n",
      "e\n",
      "l\n",
      "l\n",
      "o\n",
      "!\n"
     ]
    }
   ],
   "source": [
    "def printString(inputString):\n",
    "    for character in inputString:\n",
    "        print(character)\n",
    "\n",
    "printString(\"Hello!\")"
   ]
  },
  {
   "cell_type": "markdown",
   "metadata": {},
   "source": [
    "Let's go over how this function works.\n",
    "\n",
    "Our first step is to define how our loop will work. The first line states that we will look at each element in the input *inputString* one-by-one. While executing the code inside the loop, we will refer to the current element as *character*. The second line states that we will print out the value of *character*. Let's do a quick trace to see how the output is generated.\n",
    "\n",
    "During the first execution of the second line, *character* is equal to the first element of *inputString*. We feed that into the print function, and we notice that \"H\" is printed.<br>\n",
    "During the second execution of the second line, *character* is equal to the second element of *inputString*. Again, we feed that into the print function, and we notice that \"e\" is printed.<br>\n",
    "This pattern continues for every element in *inputString*. The loop stops after \"!\" is printed, as it is the last element in *inputString*. Since there is no code after the loop, the function stops executing."
   ]
  },
  {
   "cell_type": "code",
   "execution_count": 35,
   "metadata": {},
   "outputs": [
    {
     "name": "stdout",
     "output_type": "stream",
     "text": [
      "10\n"
     ]
    }
   ],
   "source": [
    "def sumList(lst):\n",
    "    sum = 0\n",
    "    for lstElement in lst:\n",
    "        sum += lstElement\n",
    "    return sum\n",
    "\n",
    "print(sumList((1, 2, 3, 4)))"
   ]
  },
  {
   "cell_type": "markdown",
   "metadata": {},
   "source": [
    "Let's go over how this function works.\n",
    "\n",
    "Our first step is to create a variable called *sum* that starts at 0. We will update this as we look at each element. The second line of the function is where the loop begins. Inside the loop, we add an element from our input *lst* to the current value of *sum*. Once that has completed, we return *sum*.\n",
    "\n",
    "Let's trace through the code to see how it works.\n",
    "\n",
    "After the first line runs, we have a variable called *sum* that is equal to 0.<br>\n",
    "The second line defines how our loop will run. We will look at each element of the user input *lst*, and we will add the value of each element to our *sum* variable.<br>\n",
    "The third line of the loop will run as many times as there are elements in *lst*. In the example above, there are 4 elements. As such, the *sum += lstElement* line will run 4 times.<br>\n",
    "* After the <b>first</b> execution, the value of *sum* will be <b>1</b>. We looked at the first element in *lst*, and we added it to *sum*.<br>\n",
    "* Seeing as we have not reached the end of the loop, the line runs again. After the <b>second</b> execution, the value of *sum* will be <b>3</b>. We looked at the second element in *lst*, and we added it to *sum*.<br>\n",
    "* Seeing as we have not reached the end of the loop, the line runs again. After the <b>third</b> execution, the value of *sum* will be <b>6</b>. We looked at the third element in *lst*, and we added it to *sum*.<br>\n",
    "* Seeing as we have not reached the end of the loop, the line runs again. After the <b>fourth</b> execution, the value of *sum* will be <b>10</b>. We looked at the fourth element in *lst*, and we added it to *sum*.<br>\n",
    "* We have reached the end of the list, so we will stop executing the code inside the loop. We will proceed to the code that comes after the loop.\n",
    "\n",
    "\n",
    "All that's left to do now is return the sum that we calculated. We are storing this value in *sum*, so we will just return the *sum* variable."
   ]
  },
  {
   "cell_type": "code",
   "execution_count": 39,
   "metadata": {},
   "outputs": [
    {
     "name": "stdout",
     "output_type": "stream",
     "text": [
      "The value of lstElement is 1\n",
      "After adding lstElement to sum, the value of sum is 1\n",
      "\n",
      "The value of lstElement is 2\n",
      "After adding lstElement to sum, the value of sum is 3\n",
      "\n",
      "The value of lstElement is 3\n",
      "After adding lstElement to sum, the value of sum is 6\n",
      "\n",
      "The value of lstElement is 4\n",
      "After adding lstElement to sum, the value of sum is 10\n",
      "\n",
      "10\n"
     ]
    }
   ],
   "source": [
    "def sumList(lst):\n",
    "    sum = 0\n",
    "    for lstElement in lst:\n",
    "        print(\"The value of lstElement is \" + str(lstElement))\n",
    "        sum += lstElement\n",
    "        print(\"After adding lstElement to sum, the value of sum is \" + str(sum) + \"\\n\")\n",
    "    return sum\n",
    "\n",
    "print(sumList((1, 2, 3, 4)))"
   ]
  },
  {
   "cell_type": "markdown",
   "metadata": {},
   "source": [
    "<br>Let's look at another example using the *range* function. The function *functionName* will take in 2 parameters, *upperLimit* and *factor*. It will count the numbers between 1 and *upperLimit* (including both ends) that evenly divide by *factor*."
   ]
  },
  {
   "cell_type": "code",
   "execution_count": 4,
   "metadata": {},
   "outputs": [
    {
     "name": "stdout",
     "output_type": "stream",
     "text": [
      "5\n"
     ]
    }
   ],
   "source": [
    "def howManyDivideFactor(upperLimit, factor):\n",
    "    total = 0\n",
    "    for i in range(1, upperLimit+1):\n",
    "        if (i % factor == 0):\n",
    "            total += 1\n",
    "    return total\n",
    "\n",
    "print(howManyDivideFactor(10, 2))"
   ]
  },
  {
   "cell_type": "markdown",
   "metadata": {},
   "source": [
    "Let's run through the logic of the function.\n",
    "\n",
    "First, we initialize a variable *total* that we will use to keep track of how many numbers evenly divide *factor*.\n",
    "<br>Next, we use *range* to give us a sequence of numbers from 1 to *upperLimit*. For each number, we will check to see if it has no remainder when divided by *factor*. If so, we will increase *total*.\n",
    "\n",
    "* Notice that we supply *upperLimit* as the second parameter of *range*. The second parameter is exclusive, so the sequence will stop at 1 less than the parameter. In this case, that will be *upperLimit*.\n",
    "<br>Once the loop finishes, we return *total*.\n",
    "\n",
    "Now, let's trace through the example.\n",
    "\n",
    "*total* is set to 0.\n",
    "\n",
    "We move on to the loop.\n",
    "\n",
    "When i = 1, we check the value of 1 % 2. It evaluates to 1. We do not increase total.\n",
    "\n",
    "When i = 2, we check the value of 2 % 2. It evaluates to 0. We increase total by 1. Its new value is 1.\n",
    "\n",
    "When i = 3, we check the value of 3 % 2. It evaluates to 1. We do not increase total.\n",
    "\n",
    "This continues for i = 4 through i = 7.\n",
    "\n",
    "When i = 8, we check the value of 8 % 2. It evaluates to 0. We increase total by 1. Its new value is 4.\n",
    "\n",
    "When i = 9, we check the value of 1 % 2. It evaluates to 1. We do not increase total.\n",
    "\n",
    "When i = 10, we check the value of 2 % 2. It evaluates to 0. We increase total by 1. Its new value is 5.\n",
    "\n",
    "The loop is done, and we return the value of *total*."
   ]
  },
  {
   "cell_type": "markdown",
   "metadata": {},
   "source": [
    "#### While Loops\n",
    "\n",
    "While loops are the other type of loop that we will be going over. They are structured like so:\n",
    "\n",
    "while *condition*<br>\n",
    "&emsp;*loop code goes here*\n",
    "\n",
    "As long as the condition evaluates to *True*, the loop code will run. Once it finishes executing, the condition is checked again. This repeats indefinitely. A common use for a *while* loop is repeating a block of code until the condition is false. Let's go over an example that runs a countdown from 10, and prints \"Liftoff!\" at the end."
   ]
  },
  {
   "cell_type": "code",
   "execution_count": 7,
   "metadata": {},
   "outputs": [
    {
     "name": "stdout",
     "output_type": "stream",
     "text": [
      "10\n",
      "9\n",
      "8\n",
      "7\n",
      "6\n",
      "5\n",
      "4\n",
      "3\n",
      "2\n",
      "1\n",
      "0\n",
      "Liftoff!\n"
     ]
    }
   ],
   "source": [
    "def printCountdown():\n",
    "    i = 10\n",
    "    while i >= 0:\n",
    "        print(i)\n",
    "        i -= 1\n",
    "    print(\"Liftoff!\")\n",
    "    \n",
    "printCountdown()"
   ]
  },
  {
   "cell_type": "markdown",
   "metadata": {},
   "source": [
    "Let's trace through this.\n",
    "\n",
    "First, we set a variable *i* equal to 10.\n",
    "\n",
    "Then, we move on to the loop.\n",
    "\n",
    "We check if *i* is greater than or equal to 0. Since *i* is 10, the condition is satisfied. We print the value of *i*, decrease it by 1, and go back to the condition.\n",
    "\n",
    "We check if *i* is greater than or equal to 0. Since *i* is 9, the condition is satisfied. We print the value of *i*, decrease it by 1, and go back to the condition.\n",
    "\n",
    "We check if *i* is greater than or equal to 0. Since *i* is 8, the condition is satisfied. We print the value of *i*, decrease it by 1, and go back to the condition.\n",
    "\n",
    "This continues for i = 7 through i = 3.\n",
    "\n",
    "We check if *i* is greater than or equal to 0. Since *i* is 2, the condition is satisfied. We print the value of *i*, decrease it by 1, and go back to the condition.\n",
    "\n",
    "We check if *i* is greater than or equal to 0. Since *i* is 1, the condition is satisfied. We print the value of *i*, decrease it by 1, and go back to the condition.\n",
    "\n",
    "We check if *i* is greater than or equal to 0. Since *i* is 0, the condition is satisfied. We print the value of *i*, decrease it by 1, and go back to the condition.\n",
    "\n",
    "We check if *i* is greater than or equal to 0. Since *i* is -1, the condition is not satisfied. We break out of the loop.\n",
    "\n",
    "We print \"Liftoff!\" and the execution of the function stops."
   ]
  },
  {
   "cell_type": "markdown",
   "metadata": {},
   "source": [
    "### Recursion"
   ]
  },
  {
   "cell_type": "markdown",
   "metadata": {},
   "source": [
    "Recursive functions are functions that call themselves. Often, they are seen as an alternative approach to loops when you want to execute the same lines of code repeatedly.\n",
    "\n",
    "Recursive functions need a *base case* or *stop condition*. This will be some kind of check that will let the program know that it should stop calling the function. Without one, the function will call itself infinitely. This is known as infinite recursion.\n",
    "\n",
    "Let's take a look at some examples."
   ]
  },
  {
   "cell_type": "markdown",
   "metadata": {},
   "source": [
    "#### Fibonacci"
   ]
  },
  {
   "cell_type": "code",
   "execution_count": 1,
   "metadata": {},
   "outputs": [],
   "source": [
    "def fibonacci(n):\n",
    "    if n <= 0:\n",
    "        return 0\n",
    "    if n == 1:\n",
    "        return 1\n",
    "    return fibonacci(n-1) + fibonacci(n-2)"
   ]
  },
  {
   "cell_type": "markdown",
   "metadata": {},
   "source": [
    "The *fibonacci* function above takes in a number *n* and returns the *n*th number in the Fibonacci sequence. The Fibonacci Sequence starts as follows:\n",
    "\n",
    "0, 1, 1, 2, 3, 5, 8, 13, 21, 34, 55, 89, 144, ...\n",
    "\n",
    "0 is at the 0th index. 1 is at the 1st index. To calculate the next number, you add the previous 2 numbers together.\n",
    "\n",
    "0 + 1 = 1<br>\n",
    "1 + 1 = 2<br>\n",
    "1 + 2 = 3<br>\n",
    "2 + 3 = 5<br>\n",
    "\n",
    "And so on."
   ]
  },
  {
   "cell_type": "markdown",
   "metadata": {},
   "source": [
    "Let's look at the code.\n",
    "\n",
    "The first if statment checks if *n* is less than or equal to 0. If so, it returns 0. This way, if the user enters a negative number, the code will still execute.\n",
    "\n",
    "The second if statement checks if *n* is 1. If so, it returns 1. Both this check and the one above follow the definition of the sequence by returning 0 or 1 depending on the value of *n*.\n",
    "\n",
    "The last line of the function has 2 recursive calls. If we want to calculate a Fibonacci number at index 2 or higher, we must recursively call our function. The first call will find the Fibonacci number at the *n*-1th index, and the second call will find the number at the *n*-2th index. Let's trace through the function when we make *n* = 3."
   ]
  },
  {
   "cell_type": "markdown",
   "metadata": {},
   "source": [
    "##### fibonacci(3)\n",
    "3 is not less than or equal to 1, so neither of the if statements pass. We look at the recursive calls. Before we can get to the fibonacci(n-2) call, we have to complete the fibonacci(n-1) call in its entirety. This means we have to trace through the function when *n* = 2. We will use the number we get from this call and add it to what we get from the fibonacci(n-2) call and return that value. That will give us the Fibonacci number at the 3rd index."
   ]
  },
  {
   "cell_type": "markdown",
   "metadata": {},
   "source": [
    "##### fibonacci(2)"
   ]
  },
  {
   "cell_type": "markdown",
   "metadata": {},
   "source": [
    "2 is not less than or equal to 1, so neither of the if statements pass. Again, we have to look at the recursive calls. Before we can get to the fibonacci(n-2) call, we must complete the fibonacci(n-1) call. This means we have to trace through the function when n = 1."
   ]
  },
  {
   "cell_type": "markdown",
   "metadata": {},
   "source": [
    "##### fibonacci(1)"
   ]
  },
  {
   "cell_type": "markdown",
   "metadata": {},
   "source": [
    "Since 1 is equal to 1, the second if statement evaluates to true, and we return 1. There are no recursive calls. This is an example of how the base case works."
   ]
  },
  {
   "cell_type": "markdown",
   "metadata": {},
   "source": [
    "Now we have to do the second recursive call from when *n* = 2. That would mean tracing through fibonacci(0)."
   ]
  },
  {
   "cell_type": "markdown",
   "metadata": {},
   "source": [
    "##### fibonacci(0)\n",
    "\n",
    "Since 0 is less than or equal to 0, the first if statement evaluates to true, and we return 0. There are no recursive calls."
   ]
  },
  {
   "cell_type": "markdown",
   "metadata": {},
   "source": [
    "##### Tying it all together\n",
    "When *n* = 2, we need to get the values from 2 recursive calls. When *n* = 0, the function returns 0. When *n* = 1, the function returns 1. Adding these together gives us 1. This is the result of the first recursive call from fibonacci(3). The second recursive call from fibonacci(3) is fibonacci(1). The code will run and calculate that value again, but we know it gives us 1. Adding up the values from the recursive calls, we get that the Fibonacci number at index 3 is 2."
   ]
  },
  {
   "cell_type": "markdown",
   "metadata": {},
   "source": [
    "Later on, we will go over a faster way to calculate Fibonacci numbers."
   ]
  },
  {
   "cell_type": "markdown",
   "metadata": {},
   "source": [
    "#### Factorial"
   ]
  },
  {
   "cell_type": "markdown",
   "metadata": {},
   "source": [
    "The factorial for any non-negative integer *n* is defined as follows:\n",
    "\n",
    "*n*! = *n* * (*n* - 1) * (*n* - 2) * ... * 3 * 2 * 1\n",
    "\n",
    "In English, it is the product of all of the non-negative integers that are less than or equal to *n*.\n",
    "\n",
    "0! = 1 by convention. The reasoning behind that is beyond the scope of this course, but if you're interested in how the math works out, <a href='https://en.wikipedia.org/wiki/Empty_product'>this link</a> explains it."
   ]
  },
  {
   "cell_type": "markdown",
   "metadata": {},
   "source": [
    "Let's take a look at a factorial function."
   ]
  },
  {
   "cell_type": "code",
   "execution_count": 3,
   "metadata": {},
   "outputs": [],
   "source": [
    "def factorial(n):\n",
    "    if n == 0 or n == 1:\n",
    "        return 1\n",
    "    return n * factorial(n-1)"
   ]
  },
  {
   "cell_type": "markdown",
   "metadata": {},
   "source": [
    "Let's walk through the code.\n",
    "\n",
    "The first if statement checks if *n* is 1. If so, we return 1. This is our base case.\n",
    "\n",
    "The last line is the recursive call. It returns the product of *n* and the factorial of *n*-1. By definition, *n*! equals *n* times all of the non-negative integers less than *n*. The product of all of the non-negative integers less than or equal to *n*-1 is the factorial of *n*-1. This is the logic behind the recursive call."
   ]
  },
  {
   "cell_type": "markdown",
   "metadata": {},
   "source": [
    "Let's trace through the function when *n* = 4."
   ]
  },
  {
   "cell_type": "markdown",
   "metadata": {},
   "source": [
    "When *n* = 4, the if statement evaluates to false, and we have to call factorial(3).<br>\n",
    "When *n* = 3, the if statement evaluates to false, and we have to call factorial(2).<br>\n",
    "When *n* = 2, the if statement evaluates to false, and we have to call factorial(1).<br>\n",
    "When *n* = 1, the if statement evaluates to true, and we return 1.\n",
    "\n",
    "The 1 is sent to factorial(2), and we return 2 * 1 = 2.\n",
    "\n",
    "The 2 is sent to factorial(3), and we return 3 * 2 = 6.\n",
    "\n",
    "The 6 is sent to factorial(4), and we return 4 * 6 = 24.\n",
    "\n",
    "24 is the final return value."
   ]
  },
  {
   "cell_type": "markdown",
   "metadata": {},
   "source": [
    "### Practice Time\n",
    "\n",
    "Write a recursive function *decrease* that takes in 2 positive integers *start* and *gap*. The first number is the starting point, and the second number is the difference between numbers. Print *start* and positive number that is less than it in gaps of size *gap*. That is, print *start*, *start*-*gap* *start*-*gap*-*gap* until you reach 0.\n",
    "\n",
    "* You should check that both *start* and *gap* are positive\n",
    "\n",
    "decrease(5, 2) prints 5, 3, and 1<br>\n",
    "decrease(2, 4) prints 2<br>\n",
    "decrease(17, 5) prints 17, 12, 7, and 2<br>\n",
    "decrease(6, -1) prints an error message<br>\n",
    "decrease(-7, 2) prints an error message<br>"
   ]
  },
  {
   "cell_type": "code",
   "execution_count": 9,
   "metadata": {},
   "outputs": [],
   "source": [
    "# Your decrease code goes here"
   ]
  }
 ],
 "metadata": {
  "kernelspec": {
   "display_name": "Python 3",
   "language": "python",
   "name": "python3"
  },
  "language_info": {
   "codemirror_mode": {
    "name": "ipython",
    "version": 3
   },
   "file_extension": ".py",
   "mimetype": "text/x-python",
   "name": "python",
   "nbconvert_exporter": "python",
   "pygments_lexer": "ipython3",
   "version": "3.8.5"
  }
 },
 "nbformat": 4,
 "nbformat_minor": 4
}
