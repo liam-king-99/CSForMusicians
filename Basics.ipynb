{
 "cells": [
  {
   "cell_type": "markdown",
   "metadata": {},
   "source": [
    "# TO DO!!!\n",
    "\n",
    "-Boolean operations\n",
    "\n",
    "-part 1 of python basics"
   ]
  },
  {
   "cell_type": "markdown",
   "metadata": {},
   "source": [
    "# Computer Programming for Musicians 1\n",
    "\n",
    "Hello! Welcome to Computer Programming for Musicians! \n",
    "\n",
    "TBD"
   ]
  },
  {
   "cell_type": "markdown",
   "metadata": {},
   "source": [
    "# Who we are\n",
    "\n",
    "Hi Liam"
   ]
  },
  {
   "cell_type": "markdown",
   "metadata": {},
   "source": [
    "# What you will learn!\n",
    "\n",
    "TBD\n",
    "\n",
    "That being said, you should also establish personal goals here! "
   ]
  },
  {
   "cell_type": "markdown",
   "metadata": {},
   "source": [
    "# Todays Topics\n",
    "\n",
    "Today will cover a lot of introductory material! We will learn about **Python**, the language we will use for this short course. We will write our first program, and learn the ins and outs of what sort of things we can create. More specifically\n",
    "\n",
    "0) Intro ish stuff\n",
    "\n",
    "1) Python Basics\n",
    "\n",
    "2) Data Types\n",
    "\n",
    "3) Operators\n",
    "\n",
    "These will all be well labelled and numbers for your convenience!"
   ]
  },
  {
   "cell_type": "markdown",
   "metadata": {},
   "source": [
    "# Anyone can code\n",
    "\n",
    "As Gusteau says in Ratatoullie, \"Anyone can cook.\" And coding is kind of like cooking so therefore everyone can code! Don't be afraid of any and all big words that pop up. As musicians, you see words like \"sforzando, coda, New York Philharmonic.\" These big words are extremely unfamiliar to the non-musician, but you know them to basically be labels and words to describe common things. We say **marcato** for \"marked or distinguished\" the same way a programmer says **algorithm** for a set of steps and operations. \n",
    "\n",
    "These key words will be **bolded** as we go through. Don't worry too much about the terminology - focus more on the concepts.\n",
    "\n",
    "And have fun! Programming can be fun!"
   ]
  },
  {
   "cell_type": "markdown",
   "metadata": {},
   "source": [
    "# 0) Intro ish stuff\n",
    "\n",
    "This section will discuss what Python is and what this Jupyter Notebook thing is.\n",
    "\n",
    "## 0.1) What is Python?\n",
    "\n",
    "You've probably heard about different **languages** in computer programming. There's **Python**, Julia, C, C++, Java, and many more. There are different reasons to use different ones, but for this short course, we will use **Python**. There's a few reasons for this, but the main reason is that Python is a lot more intuitive than some of these other languages. If you're curious you can look into the specs of the language (it's actually kind of slow). But nowadays, many companies use it! \n",
    "\n",
    "Python is a great stepping stone to learn how to code! If you end up pursuing the route of being a programmer, you'll eventually learn other languages. However, we firmly believe that having strong grounding in Python is a great way to learn to *learn* how to learn other languages!\n",
    "\n",
    "## 0.2) What is this Jupyter Notebook?\n",
    "\n",
    "You've probably seen these hacker scenes from movies that look like this:\n",
    "\n",
    "### INSERT TONY STARK COMPUTER THING HERE \n",
    "\n",
    "In reality, it's probably not *this cool* all the time, but it is still cool! Oftentimes we write code in a python (.py) file and then run it in terminal or command prompt.\n",
    "\n",
    "Ok...that's a bit confusing. We'll eventually show you how this is done, but in the meantime, let's just write code! This thing you're looking at is called a **Jupyter Notebook**. It let's us write text and also write code blocks!\n",
    "\n",
    "Check this out, click on the box below and press [Shift + Enter]."
   ]
  },
  {
   "cell_type": "code",
   "execution_count": 2,
   "metadata": {},
   "outputs": [
    {
     "name": "stdout",
     "output_type": "stream",
     "text": [
      "If you did it properly, right below it should print out: 'If you did it properly, right below it should print out' \n"
     ]
    }
   ],
   "source": [
    "# Click here and press shift + enter!\n",
    "print(\"If you did it properly, right below it should print out: 'If you did it properly, right below it should print out' \")"
   ]
  },
  {
   "cell_type": "markdown",
   "metadata": {},
   "source": [
    "It's a super convenient way to write and try code! So, thus, we will use this for this short course!"
   ]
  },
  {
   "cell_type": "markdown",
   "metadata": {},
   "source": [
    "# 1) Python Basics\n",
    "\n",
    "So, we should probably cover some basics! Within the next few minutes, we will actually write our first program! So how do we do that?\n",
    "\n",
    "#### NEED TO FINISH"
   ]
  },
  {
   "cell_type": "code",
   "execution_count": null,
   "metadata": {},
   "outputs": [],
   "source": [
    "# Printing\n",
    "# etc/\n",
    "# ==, !=, if, else.\n",
    "\n",
    "# Shallow and deep copies?\n",
    "# Like A =10, B = 20. A < B. change A = B, can change\n",
    "\n",
    "# Operators (+, -, *, /, %, >, <, ==, !=)\n",
    "\n",
    "# input - so people can type\n"
   ]
  },
  {
   "cell_type": "markdown",
   "metadata": {},
   "source": [
    "# 2) Data Types\n",
    "\n",
    "We will now cover something called **Data Types**, which is basically a fancy word to describe what something is. Why do we care about this?\n",
    "\n",
    "Say you're about to leave your apartment to take a walk, and you want to know what the weather is like outside. How can you do so?\n",
    "\n",
    "\"Is it hot ouside?\" \"Yes!\"\n",
    "\n",
    "\"What's the weather like?\" \"It's pretty good! Warm!\"\n",
    "\n",
    "\"What's the temperature?\" \"15 degrees (celsius of course)\"\n",
    "\n",
    "\"What's the temperature to a lot of decimals? \"15.155345 degrees.\"\n",
    "\n",
    "So, it looks like the type of question we ask affects the type of response! This is, in essence, what data types are!\n",
    "\n"
   ]
  },
  {
   "cell_type": "markdown",
   "metadata": {},
   "source": [
    "## 2.1) The specific data types: Intro\n",
    "\n",
    "There are a few data types in Python, but we will focus on four: **Booleans, Strings, Integers, Floats**\n",
    "\n",
    "We can check the type of something by using *type()*! Take a look at the code block below. We create four examples for you to see what is printed out. When we print the type of the variable, we obtain 'bool', 'str', 'int', and 'float.'"
   ]
  },
  {
   "cell_type": "code",
   "execution_count": 1,
   "metadata": {},
   "outputs": [
    {
     "name": "stdout",
     "output_type": "stream",
     "text": [
      "<class 'bool'>\n",
      "<class 'str'>\n",
      "<class 'int'>\n",
      "<class 'float'>\n"
     ]
    }
   ],
   "source": [
    "# You'll learn these things later, but just to give you a quick taste...\n",
    "\n",
    "Boolean_example = True\n",
    "String_example = \"word\"\n",
    "Integer_example = 10\n",
    "Float_example = 10.25\n",
    "\n",
    "print(type(Boolean_example))\n",
    "print(type(String_example))\n",
    "print(type(Integer_example))\n",
    "print(type(Float_example))"
   ]
  },
  {
   "cell_type": "markdown",
   "metadata": {},
   "source": [
    "\n",
    "\n",
    "## 2.2) Booleans\n",
    "\n",
    "A **Boolean** can be thought of as a Yes/No or True/False. To make a Boolean type, we will take a variable and assign it as True or False. Sometimes, we even use 0/1 (with 0 being False and 1 being True). So, in our example above, a boolean is the following:\n",
    "\n",
    "\"Is it hot outside?\"\n",
    "\n",
    "\"True!\"\n",
    "\n",
    "This is a boolean!\n",
    "\n",
    "In the example below, we create four booleans!"
   ]
  },
  {
   "cell_type": "code",
   "execution_count": 9,
   "metadata": {},
   "outputs": [
    {
     "name": "stdout",
     "output_type": "stream",
     "text": [
      "Is Bool1 True?\n",
      "True\n",
      "Is Bool2 True?\n",
      "False\n",
      "Is Bool2 False?\n",
      "True\n",
      "Is Bool2 0?\n",
      "True\n",
      "Is Bool3 True?\n",
      "False\n",
      "Is Bool4 True?\n",
      "True\n",
      "Is Bool4 False?\n",
      "True\n"
     ]
    }
   ],
   "source": [
    "# Boolean Examples!\n",
    "\n",
    "\n",
    "Bool1 = True\n",
    "Bool2 = False\n",
    "\n",
    "Bool3 = 1\n",
    "Bool4 = 0\n",
    "\n",
    "# Let's verify that this works!\n",
    "\n",
    "# First we check that Bool1 is True.\n",
    "print(\"Is Bool1 True?\")\n",
    "print(Bool1 == True)\n",
    "\n",
    "print(\"Is Bool2 True?\")\n",
    "print(Bool2 == True)\n",
    "\n",
    "print(\"Is Bool2 False?\")\n",
    "print(Bool2 == False)\n",
    "\n",
    "print(\"Is Bool2 0?\")\n",
    "print(Bool2 == 0)\n",
    "\n",
    "# Let's check out this 0 and 1 thing now!\n",
    "\n",
    "print(\"Is Bool3 True?\")\n",
    "print(Bool3 == False)\n",
    "\n",
    "print(\"Is Bool4 True?\")\n",
    "print(Bool4 == False)\n",
    "\n",
    "print(\"Is Bool4 False?\")\n",
    "print(Bool4 == False)\n"
   ]
  },
  {
   "cell_type": "markdown",
   "metadata": {},
   "source": [
    "**WARNING**: *make sure you capitalize your True and False! Or else, it will come in as an error.*\n",
    "\n",
    "Also, what you'll notice is that when we do a Bool4 == False, it prints out True or False! So the result of this comparison itself is a Boolean!\n",
    "\n",
    "### Boolean Practice!\n",
    "\n",
    "Let's work with some Booleans!"
   ]
  },
  {
   "cell_type": "code",
   "execution_count": null,
   "metadata": {},
   "outputs": [],
   "source": [
    "\"\"\"\n",
    "Below are two variables that haven't been defined yet!\n",
    "Try the following!\n",
    "\n",
    "-For my_first_boolean, make it a True or False value!\n",
    "-For my_second_boolean, give it a value using only 0 or 1.\n",
    "-For I_practiced_today, be honest and write whether if it is true or not!\n",
    "\n",
    "Then, like we did in the example above, write some code to check and print out if these booleans are \n",
    "\"\"\"\n",
    "\n",
    "# Variables\n",
    "my_first_boolean = \n",
    "my_second_boolean = \n",
    "I_practiced_today = \n",
    "\n",
    "# Check if my_first_boolean is True! Check if it is False!\n",
    "\n",
    "\n",
    "# Check if my_second_boolean is 0. Check if it's 1! Do this without using 0 or 1! (Hint: Remember that True and 1 are equivalent)\n",
    "\n",
    "\n",
    "# Check if you practiced today! Uh oh!\n",
    "\n"
   ]
  },
  {
   "cell_type": "code",
   "execution_count": null,
   "metadata": {},
   "outputs": [],
   "source": [
    "## BOOLEAN OPERTIONS: True + True and whatever"
   ]
  },
  {
   "cell_type": "markdown",
   "metadata": {},
   "source": [
    "## 2.3) Strings\n",
    "\n",
    "A **string** can be thought of as a \"string of letters, characters, or words.\" In the weather example, this could be the response: \"It's pretty good! Warm!\"\n",
    "\n",
    "So how do we make a string? Conveniently, we actually just need to put things in quotes! Check this out!\n"
   ]
  },
  {
   "cell_type": "code",
   "execution_count": 11,
   "metadata": {},
   "outputs": [
    {
     "name": "stdout",
     "output_type": "stream",
     "text": [
      "This is a string! It can be very long or as short as\n",
      "a\n",
      "single character!\n",
      "The phrasing was okay, but try less bow. The second note was out of tune.\n"
     ]
    }
   ],
   "source": [
    "# An example of a string!\n",
    "\n",
    "String1 = \"This is a string! It can be very long or as short as\"\n",
    "String2 = \"a\"\n",
    "String3 = \"single character!\"\n",
    "String4 = \"The phrasing was okay, but try less bow. The second note was out of tune.\"\n",
    "\n",
    "print(String1)\n",
    "print(String2)\n",
    "print(String3)\n",
    "print(String4)"
   ]
  },
  {
   "cell_type": "markdown",
   "metadata": {},
   "source": [
    "Notice that we can print these out immediately!"
   ]
  },
  {
   "cell_type": "markdown",
   "metadata": {},
   "source": [
    "### String Operations\n",
    "\n",
    "Let's cover some of the things we can do with strings! \n",
    "\n",
    "Firstly, we can add strings! We can take two (or many more) strings and add them together to create a longer string!\n"
   ]
  },
  {
   "cell_type": "code",
   "execution_count": 15,
   "metadata": {},
   "outputs": [
    {
     "name": "stdout",
     "output_type": "stream",
     "text": [
      "I am out of tune.\n"
     ]
    }
   ],
   "source": [
    "# Adding example\n",
    "\n",
    "first_word = \"I\"\n",
    "second_word = \"am\"\n",
    "third_word = \"out\"\n",
    "fourth_word = \"of\"\n",
    "fifth_word = \"tune\"\n",
    "period = \".\"\n",
    "space = \" \"\n",
    "\n",
    "sentence = first_word + space + second_word + space + third_word + space + fourth_word + space + fifth_word + period\n",
    "print(sentence)\n"
   ]
  },
  {
   "cell_type": "markdown",
   "metadata": {},
   "source": [
    "We don't necessarily need to define variables to add strings either! We can also mix and match!"
   ]
  },
  {
   "cell_type": "code",
   "execution_count": 19,
   "metadata": {},
   "outputs": [
    {
     "name": "stdout",
     "output_type": "stream",
     "text": [
      "This is an example of adding without defining variables! Cool!\n"
     ]
    }
   ],
   "source": [
    "# An example of mixing and matching!\n",
    "\n",
    "mystery_word = \" Cool!\"\n",
    "sentence2 = \"This is an \" + \"example of adding\" + \" without defining variables!\" + mystery_word\n",
    "\n",
    "print(sentence2)"
   ]
  },
  {
   "cell_type": "markdown",
   "metadata": {},
   "source": [
    "Another thing we can do is pick our **characters** from a string. We do this by **indexing**: we can take the variable and write [some number]. For example:"
   ]
  },
  {
   "cell_type": "code",
   "execution_count": 21,
   "metadata": {},
   "outputs": [
    {
     "name": "stdout",
     "output_type": "stream",
     "text": [
      "T\n",
      "i\n",
      "s\n"
     ]
    }
   ],
   "source": [
    "# indexing strings\n",
    "\n",
    "string1 = \"This is a super long string and I will use [0] to rip off 'T', and [5] to rip off 'i' space!\"\n",
    "\n",
    "print(string1[0])\n",
    "print(string1[5])\n",
    "\n",
    "# We can also define an integer (to be defined later) to rip off characters!\n",
    "\n",
    "number = 10\n",
    "print(string1[number])"
   ]
  },
  {
   "cell_type": "markdown",
   "metadata": {},
   "source": [
    "*Notice that the first letter is 0, NOT 1! Python is zero indexed!* We can also define a **range** to rip of part of a string by using [start: end]! For example:"
   ]
  },
  {
   "cell_type": "code",
   "execution_count": 25,
   "metadata": {},
   "outputs": [
    {
     "name": "stdout",
     "output_type": "stream",
     "text": [
      "apple \n"
     ]
    }
   ],
   "source": [
    "# Taking a chunk of a string\n",
    "\n",
    "string2 = \"I apple dog. I'll bring out apple!\"\n",
    "print(string2[2: 8]) # notice here that apple takes the 2nd to 7th characters. However, this string ends at 8!"
   ]
  },
  {
   "cell_type": "markdown",
   "metadata": {},
   "source": [
    "As mentioned in the comment above, the 'end' is really the last spot plus one!\n",
    "\n",
    "We can also find the length of a string by using the len() function. For example:"
   ]
  },
  {
   "cell_type": "code",
   "execution_count": 26,
   "metadata": {},
   "outputs": [
    {
     "name": "stdout",
     "output_type": "stream",
     "text": [
      "34\n"
     ]
    }
   ],
   "source": [
    "# The result of len() will be an integer\n",
    "length = len(string2)\n",
    "print(length)"
   ]
  },
  {
   "cell_type": "markdown",
   "metadata": {},
   "source": [
    "### String Practice!\n",
    "\n",
    "And now, it's your turn to get familiar with this! Here, we will create, add, and manipulate strings for mastery!"
   ]
  },
  {
   "cell_type": "code",
   "execution_count": null,
   "metadata": {},
   "outputs": [],
   "source": [
    "\"\"\"\n",
    "Below is a variable called jury_comment. Try the following!\n",
    "\n",
    "-Write out a comment you got from your jury (good or bad)!\n",
    "-Rip off the third word from the comment\n",
    "-Find the lengths of the jury comment and the third word\n",
    "-Verify that the jury_comment is longer. (Hint: use > or <. It should return a boolean)\n",
    "-Rip off the third letter of the third word. If the word is shorter than 3 letters, just pick your favorite letter!\n",
    "-Add the third word to the end of the jury comment. (If you want it to be pretty, you may need to add a space!)\n",
    "\n",
    "\n",
    "\"\"\"\n",
    "\n",
    "# write your jury comment\n",
    "jury_comment = \n",
    "\n",
    "\n",
    "# using the jury_comment above, fill in the thing in the brackets to get the third word.\n",
    "third_word = jury_comment[ : ]\n",
    "\n",
    "\n",
    "# find the length of the jury_comment and the third_word\n",
    "jury_comment_length = \n",
    "third_word_length =\n",
    "is_comment_longer = \n",
    "\n",
    "\n",
    "# from the third word, take the third letter! (If the word is shorter than 3 letters, take your favorite letter)\n",
    "third_letter_of_third_word = \n",
    "\n",
    "\n",
    "# Add the third word to the end of the jury comment. \n",
    "jury_comment_and_third_word = \n",
    "\n",
    "# These print statements here are to verify that your results are correct!\n",
    "print(jury_comment)\n",
    "print(third_word)\n",
    "print(jury_comment_length)\n",
    "print(third_word_length)\n",
    "print(is_comment_longer)\n",
    "print(third_letter_of_third_word)\n",
    "print(jury_comment_and_third_word)"
   ]
  },
  {
   "cell_type": "markdown",
   "metadata": {},
   "source": [
    "## 2.4) Integers and Floats\n",
    "\n",
    "**Integers** are the numbers we use most often in every day life (I think). They are the whole numbers we count with: 0, 1, 2, and so on. We can have both positive and negative integers. \n",
    "\n",
    "In Python, we can denote an integer quite easily!  We just type the number!\n"
   ]
  },
  {
   "cell_type": "code",
   "execution_count": 2,
   "metadata": {},
   "outputs": [
    {
     "name": "stdout",
     "output_type": "stream",
     "text": [
      "<class 'int'>\n"
     ]
    }
   ],
   "source": [
    "int1 = 1\n",
    "int2 = 2\n",
    "int3 = -2\n",
    "\n",
    "print(type(int3)) # just to check and make sure we get an integer"
   ]
  },
  {
   "cell_type": "markdown",
   "metadata": {},
   "source": [
    "**Floats** are also numbers, but unlike integers, they are not always *whole* numbers. Think of a float as \"any number.\" For example, pi, 3.1415926..., can be expressed as a float. To create a float, we just need to include a decimal point!"
   ]
  },
  {
   "cell_type": "code",
   "execution_count": 1,
   "metadata": {},
   "outputs": [
    {
     "name": "stdout",
     "output_type": "stream",
     "text": [
      "<class 'float'>\n"
     ]
    }
   ],
   "source": [
    "float1 = 3.1415\n",
    "float2 = 0.33\n",
    "float3 = 1.\n",
    "\n",
    "print(type(float3))"
   ]
  },
  {
   "cell_type": "markdown",
   "metadata": {},
   "source": [
    "You'll notice that the last float, 1., is a float, and not an integer! Including the decimal point at the end makes it a float type and not an integer. (We could also write 1.0, 1.00, etc.)\n",
    "\n",
    "While 1 and 1. are, to us, practically the same, on a computer we want to make sure we specify which we are working with! For example, if we are just counting up, integers are fine! (1, 2, 3, ...) \n",
    "\n",
    "But maybe we want to calculate how much something costs, and we need those extra decimal points! Now, you might ask \"so why don't I just always use a float?\" Generally, floats are more espensive - our computers will need to use more resources to keep track of it."
   ]
  },
  {
   "cell_type": "markdown",
   "metadata": {},
   "source": [
    "### Integer and Float operations\n",
    "\n",
    "Let's start by discussing the operations that both integers and floats can use, and then go into float and integer specific ones.\n",
    "\n",
    "We can add (+), subtract (-), multiply (\\*) and divide (/). Let's see some of these in action.\n"
   ]
  },
  {
   "cell_type": "code",
   "execution_count": 5,
   "metadata": {},
   "outputs": [
    {
     "name": "stdout",
     "output_type": "stream",
     "text": [
      "6\n",
      "11.0\n",
      "1\n",
      "3200\n",
      "3.2\n",
      "0.3333333333333333\n"
     ]
    }
   ],
   "source": [
    "print(1 + 5)\n",
    "print(1 + 10.)\n",
    "\n",
    "print(4 - 3)\n",
    "\n",
    "print(100 * 32)\n",
    "\n",
    "print(16/5)\n",
    "print(1/3)"
   ]
  },
  {
   "cell_type": "markdown",
   "metadata": {},
   "source": [
    "Notice that when we add an integer and a float together, our result is automatically a float! (1 + 10. = 11.0) Also, notice that when we divide two integers, if the result is not a whole number, we get a float (16/5 = 3.2).\n",
    "\n",
    "Also, when we do 1/3, we get 0.3333333333333333. In reality, this should repeat forever, but our computer doesn't really have infinite space."
   ]
  },
  {
   "cell_type": "markdown",
   "metadata": {},
   "source": [
    "## 2.6) Type Casting"
   ]
  },
  {
   "cell_type": "markdown",
   "metadata": {},
   "source": [
    "## 2.X) Examples and Programming Practice\n",
    "\n",
    "Try these out! There could be multiple right answers?\n",
    "\n",
    "**What data type should we use for bank accounts?**\n",
    "\n",
    "**What data type should we use to indicate what place you are in a line at a supermarket?**\n",
    "\n",
    "**What data type should we use for a name tag?**\n",
    "\n",
    "**What data type should we use for a coin flip?**"
   ]
  },
  {
   "cell_type": "code",
   "execution_count": null,
   "metadata": {},
   "outputs": [],
   "source": []
  }
 ],
 "metadata": {
  "kernelspec": {
   "display_name": "Python 3",
   "language": "python",
   "name": "python3"
  },
  "language_info": {
   "codemirror_mode": {
    "name": "ipython",
    "version": 3
   },
   "file_extension": ".py",
   "mimetype": "text/x-python",
   "name": "python",
   "nbconvert_exporter": "python",
   "pygments_lexer": "ipython3",
   "version": "3.7.7"
  }
 },
 "nbformat": 4,
 "nbformat_minor": 4
}
